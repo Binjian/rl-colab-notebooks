{
 "cells": [
  {
   "cell_type": "code",
   "execution_count": 1,
   "metadata": {},
   "outputs": [],
   "source": [
    "import gym\n",
    "from tqdm import tqdm\n",
    "import numpy as np"
   ]
  },
  {
   "cell_type": "code",
   "execution_count": 2,
   "metadata": {},
   "outputs": [],
   "source": [
    "import torch\n",
    "import torch.nn as nn\n",
    "import torch.optim as optim\n",
    "from torch.optim.lr_scheduler import StepLR"
   ]
  },
  {
   "cell_type": "code",
   "execution_count": 3,
   "metadata": {},
   "outputs": [],
   "source": [
    "from stable_baselines3 import PPO\n",
    "from stable_baselines3.ppo import MlpPolicy"
   ]
  },
  {
   "cell_type": "code",
   "execution_count": 4,
   "metadata": {},
   "outputs": [],
   "source": [
    "env = gym.make(\"LunarLanderContinuous-v2\")"
   ]
  },
  {
   "cell_type": "markdown",
   "metadata": {},
   "source": [
    "\n",
    "<br>\n",
    "We create an expert RL agent and let it learn to solve a task by interacting with the evironment.<br>\n"
   ]
  },
  {
   "cell_type": "code",
   "execution_count": 5,
   "metadata": {},
   "outputs": [],
   "source": [
    "try:\n",
    "    ppo_expert = PPO.load(\"ppo_expert\")\n",
    "except Exception as e:\n",
    "    good_hyperparams = {\n",
    "        \"batch_size\": 64,\n",
    "        \"gae_lambda\": 0.98,\n",
    "        \"gamma\": 0.999,\n",
    "        \"n_epochs\": 4,\n",
    "        \"ent_coef\": 0.01,\n",
    "    }\n",
    "    ppo_expert = PPO(MlpPolicy, env, verbose=True, **good_hyperparams)\n",
    "    ppo_expert.learn(total_timesteps=1e6)\n",
    "    ppo_expert.save(\"ppo_expert\")"
   ]
  },
  {
   "cell_type": "markdown",
   "metadata": {},
   "source": [
    "\n",
    "<br>\n",
    "We also create a student RL agent, which will later be trained with the expert dataset<br>\n"
   ]
  },
  {
   "cell_type": "code",
   "execution_count": 6,
   "metadata": {},
   "outputs": [
    {
     "name": "stdout",
     "output_type": "stream",
     "text": [
      "Using cpu device\n",
      "Wrapping the env in a DummyVecEnv.\n"
     ]
    }
   ],
   "source": [
    "good_hyperparams = {\n",
    "    \"batch_size\": 64,\n",
    "    \"gae_lambda\": 0.98,\n",
    "    \"gamma\": 0.999,\n",
    "    \"n_epochs\": 4,\n",
    "    \"ent_coef\": 0.01,\n",
    "}\n",
    "ppo_student = PPO(MlpPolicy, env, verbose=True, **good_hyperparams)"
   ]
  },
  {
   "cell_type": "markdown",
   "metadata": {},
   "source": [
    "\n",
    "<br>\n",
    "We now let our expert interact with the environment (except we already have expert data) <br>\n",
    "and store resultant expert observations and actions to build an expert dataset.<br>\n"
   ]
  },
  {
   "cell_type": "code",
   "execution_count": 7,
   "metadata": {},
   "outputs": [],
   "source": [
    "num_interactions = int(1e5)"
   ]
  },
  {
   "cell_type": "code",
   "execution_count": 8,
   "metadata": {},
   "outputs": [],
   "source": [
    "try:\n",
    "    expert_numpy_dataset = np.load(\"expert_actions_and_observations.npz\")\n",
    "    expert_actions = expert_numpy_dataset[\"expert_actions\"]\n",
    "    expert_observations = expert_numpy_dataset[\"expert_observations\"]\n",
    "except Exception as e:\n",
    "    expert_observations = np.empty((num_interactions, env.observation_space.shape[0]))\n",
    "    expert_actions = np.empty((num_interactions, env.action_space.shape[0]))\n",
    "    obs = env.reset()\n",
    "    for i in tqdm(range(num_interactions)):\n",
    "        action, _ = ppo_expert.predict(obs, deterministic=True)\n",
    "        expert_observations[i] = obs\n",
    "        expert_actions[i] = action\n",
    "        obs, reward, done, info = env.step(action)\n",
    "        if done:\n",
    "            obs = env.reset()\n",
    "    np.savez_compressed(\n",
    "        \"expert_actions_and_observations\",\n",
    "        expert_actions=expert_actions,\n",
    "        expert_observations=expert_observations,\n",
    "    )"
   ]
  },
  {
   "cell_type": "markdown",
   "metadata": {},
   "source": [
    "\n",
    "<br>\n",
    "- To seamlessly use PyTorch in the training process, we subclass an `ExpertDataset` from PyTorch's base `Dataset`.<br>\n",
    "- Note that we initialize the dataset with the previously generated expert observations and actions.<br>\n",
    "- We further implement Python's `__getitem__` and `__len__` magic functions to allow PyTorch's dataset-handling to access arbitrary rows in the dataset and inform it about the length of the dataset.<br>\n",
    "- For more information about PyTorch's datasets, you can read: https://pytorch.org/docs/stable/data.html.<br>\n"
   ]
  },
  {
   "cell_type": "code",
   "execution_count": 9,
   "metadata": {},
   "outputs": [],
   "source": [
    "from torch.utils.data.dataset import Dataset, random_split\n",
    "import numpy as np"
   ]
  },
  {
   "cell_type": "code",
   "execution_count": 10,
   "metadata": {},
   "outputs": [],
   "source": [
    "class ExpertDataSet(Dataset):\n",
    "    def __init__(self, expert_observations, expert_actions):\n",
    "        self.observations = expert_observations\n",
    "        self.actions = expert_actions\n",
    "    def __getitem__(self, index):\n",
    "        return (self.observations[index], self.actions[index])\n",
    "    def __len__(self):\n",
    "        return len(self.observations)"
   ]
  },
  {
   "cell_type": "markdown",
   "metadata": {},
   "source": [
    "\n",
    "<br>\n",
    "We now instantiate the `ExpertDataSet` and split it into training and test datasets.<br>\n"
   ]
  },
  {
   "cell_type": "code",
   "execution_count": 11,
   "metadata": {},
   "outputs": [],
   "source": [
    "expert_dataset = ExpertDataSet(expert_observations, expert_actions)\n",
    "train_size = int(0.8 * len(expert_dataset))\n",
    "test_size = len(expert_dataset) - train_size\n",
    "train_expert_dataset, test_expert_dataset = random_split(\n",
    "    expert_dataset, [train_size, test_size]\n",
    ")"
   ]
  },
  {
   "cell_type": "code",
   "execution_count": 12,
   "metadata": {},
   "outputs": [
    {
     "name": "stdout",
     "output_type": "stream",
     "text": [
      "test_expert_dataset:  20000\n",
      "train_expert_dataset:  80000\n"
     ]
    }
   ],
   "source": [
    "print(\"test_expert_dataset: \", len(test_expert_dataset))\n",
    "print(\"train_expert_dataset: \", len(train_expert_dataset))"
   ]
  },
  {
   "cell_type": "markdown",
   "metadata": {},
   "source": [
    "\n",
    "<br>\n",
    "NOTE: The supervised learning section of this code is adapted from: https://github.com/pytorch/examples/blob/master/mnist/main.py<br>\n",
    "1. We extract the policy network of our RL student agent.<br>\n",
    "2. We load the (labeled) expert dataset containing expert observations as inputs and expert<br>\n",
    "actions as targets.<br>\n",
    "3. We perform supervised learning, that is, we adjust the policy network's parameters such<br>\n",
    "that given expert observations as inputs to the network, its outputs match the targets (expert<br>\n",
    "actions).<br>\n",
    "By training the policy network in this way the corresponding RL student agent is taught to behave<br>\n",
    "like the expert agent that was used to created the expert dataset (Behavior Cloning).<br>\n"
   ]
  },
  {
   "cell_type": "code",
   "execution_count": 13,
   "metadata": {},
   "outputs": [],
   "source": [
    "def pretrain_agent(\n",
    "    batch_size=64,\n",
    "    epochs=1000,\n",
    "    gamma=0.7,\n",
    "    learning_rate=1.0,\n",
    "    log_interval=100,\n",
    "    no_cuda=True,\n",
    "    seed=1,\n",
    "    test_batch_size=64,\n",
    "):\n",
    "    use_cuda = not no_cuda and torch.cuda.is_available()\n",
    "    torch.manual_seed(seed)\n",
    "    device = torch.device(\"cuda\" if use_cuda else \"cpu\")\n",
    "    kwargs = {\"num_workers\": 1, \"pin_memory\": True} if use_cuda else {}\n",
    "\n",
    "    # Extract initial policy\n",
    "    model = ppo_student.policy.to(device)\n",
    "    def train(model, device, train_loader, optimizer):\n",
    "        model.train()\n",
    "        for batch_idx, (data, target) in enumerate(train_loader):\n",
    "            data, target = data.to(device), target.to(device)\n",
    "            optimizer.zero_grad()\n",
    "            output = model(data)\n",
    "            action_prediction = output[0].double()\n",
    "            criterion = nn.MSELoss()\n",
    "            loss = criterion(action_prediction, target)\n",
    "            loss.backward()\n",
    "            optimizer.step()\n",
    "            if batch_idx % log_interval == 0:\n",
    "                print(\n",
    "                    \"Train Epoch: {} [{}/{} ({:.0f}%)]\\tLoss: {:.6f}\".format(\n",
    "                        epoch,\n",
    "                        batch_idx * len(data),\n",
    "                        len(train_loader.dataset),\n",
    "                        100.0 * batch_idx / len(train_loader),\n",
    "                        loss.item(),\n",
    "                    )\n",
    "                )\n",
    "    def test(model, device, test_loader):\n",
    "        model.eval()\n",
    "        test_loss = 0\n",
    "        with torch.no_grad():\n",
    "            for data, target in test_loader:\n",
    "                data, target = data.to(device), target.to(device)\n",
    "                output = model(data)\n",
    "                action_prediction = output[0].double()\n",
    "                criterion = nn.MSELoss()\n",
    "                test_loss = criterion(action_prediction, target)\n",
    "        test_loss /= len(test_loader.dataset)\n",
    "        print(f\"Test set: Average loss: {test_loss:.4f}\")\n",
    "\n",
    "    # Here, we use PyTorch's `DataLoader` to our load previously created `ExpertDataset`s for training\n",
    "    # and testing\n",
    "    train_loader = torch.utils.data.DataLoader(\n",
    "        dataset=train_expert_dataset, batch_size=batch_size, shuffle=True, **kwargs\n",
    "    )\n",
    "    test_loader = torch.utils.data.DataLoader(\n",
    "        dataset=test_expert_dataset, batch_size=test_batch_size, shuffle=True, **kwargs,\n",
    "    )\n",
    "\n",
    "    # Define an Optimizer and a learning rate schedule.\n",
    "    optimizer = optim.Adadelta(model.parameters(), lr=learning_rate)\n",
    "    scheduler = StepLR(optimizer, step_size=1, gamma=gamma)\n",
    "\n",
    "    # Now we are finally ready to train the policy model.\n",
    "    for epoch in range(1, epochs + 1):\n",
    "        train(model, device, train_loader, optimizer)\n",
    "        test(model, device, test_loader)\n",
    "        scheduler.step()\n",
    "\n",
    "    # Implant the trained policy network back into the RL student agent\n",
    "    ppo_student.policy = model"
   ]
  },
  {
   "cell_type": "markdown",
   "metadata": {},
   "source": [
    "\n",
    "<br>\n",
    "Having defined the training procedure we can now run the pretraining!<br>\n"
   ]
  },
  {
   "cell_type": "code",
   "execution_count": 14,
   "metadata": {},
   "outputs": [
    {
     "name": "stdout",
     "output_type": "stream",
     "text": [
      "Train Epoch: 1 [0/80000 (0%)]\tLoss: 1.510769\n",
      "Train Epoch: 1 [6400/80000 (8%)]\tLoss: 0.693773\n",
      "Train Epoch: 1 [12800/80000 (16%)]\tLoss: 0.321620\n",
      "Train Epoch: 1 [19200/80000 (24%)]\tLoss: 0.239235\n",
      "Train Epoch: 1 [25600/80000 (32%)]\tLoss: 0.115762\n",
      "Train Epoch: 1 [32000/80000 (40%)]\tLoss: 0.078783\n",
      "Train Epoch: 1 [38400/80000 (48%)]\tLoss: 0.054676\n",
      "Train Epoch: 1 [44800/80000 (56%)]\tLoss: 0.037325\n",
      "Train Epoch: 1 [51200/80000 (64%)]\tLoss: 0.020173\n",
      "Train Epoch: 1 [57600/80000 (72%)]\tLoss: 0.016980\n",
      "Train Epoch: 1 [64000/80000 (80%)]\tLoss: 0.010452\n",
      "Train Epoch: 1 [70400/80000 (88%)]\tLoss: 0.012356\n",
      "Train Epoch: 1 [76800/80000 (96%)]\tLoss: 0.007572\n",
      "Test set: Average loss: 0.0000\n",
      "Train Epoch: 2 [0/80000 (0%)]\tLoss: 0.003074\n",
      "Train Epoch: 2 [6400/80000 (8%)]\tLoss: 0.006822\n",
      "Train Epoch: 2 [12800/80000 (16%)]\tLoss: 0.005679\n",
      "Train Epoch: 2 [19200/80000 (24%)]\tLoss: 0.005299\n",
      "Train Epoch: 2 [25600/80000 (32%)]\tLoss: 0.003563\n",
      "Train Epoch: 2 [32000/80000 (40%)]\tLoss: 0.005089\n",
      "Train Epoch: 2 [38400/80000 (48%)]\tLoss: 0.003208\n",
      "Train Epoch: 2 [44800/80000 (56%)]\tLoss: 0.002034\n",
      "Train Epoch: 2 [51200/80000 (64%)]\tLoss: 0.003034\n",
      "Train Epoch: 2 [57600/80000 (72%)]\tLoss: 0.002659\n",
      "Train Epoch: 2 [64000/80000 (80%)]\tLoss: 0.001568\n",
      "Train Epoch: 2 [70400/80000 (88%)]\tLoss: 0.003329\n",
      "Train Epoch: 2 [76800/80000 (96%)]\tLoss: 0.002169\n",
      "Test set: Average loss: 0.0000\n",
      "Train Epoch: 3 [0/80000 (0%)]\tLoss: 0.003131\n",
      "Train Epoch: 3 [6400/80000 (8%)]\tLoss: 0.001120\n",
      "Train Epoch: 3 [12800/80000 (16%)]\tLoss: 0.001084\n",
      "Train Epoch: 3 [19200/80000 (24%)]\tLoss: 0.002758\n",
      "Train Epoch: 3 [25600/80000 (32%)]\tLoss: 0.001139\n",
      "Train Epoch: 3 [32000/80000 (40%)]\tLoss: 0.001793\n",
      "Train Epoch: 3 [38400/80000 (48%)]\tLoss: 0.001064\n",
      "Train Epoch: 3 [44800/80000 (56%)]\tLoss: 0.001466\n",
      "Train Epoch: 3 [51200/80000 (64%)]\tLoss: 0.001103\n",
      "Train Epoch: 3 [57600/80000 (72%)]\tLoss: 0.001861\n",
      "Train Epoch: 3 [64000/80000 (80%)]\tLoss: 0.000993\n",
      "Train Epoch: 3 [70400/80000 (88%)]\tLoss: 0.001093\n",
      "Train Epoch: 3 [76800/80000 (96%)]\tLoss: 0.001620\n",
      "Test set: Average loss: 0.0000\n"
     ]
    }
   ],
   "source": [
    "pretrain_agent(\n",
    "    epochs=3,\n",
    "    gamma=0.7,\n",
    "    learning_rate=1.0,\n",
    "    log_interval=100,\n",
    "    no_cuda=True,\n",
    "    seed=1,\n",
    "    batch_size=64,\n",
    "    test_batch_size=1000,\n",
    ")\n",
    "ppo_student.save(\"ppo_student\")"
   ]
  },
  {
   "cell_type": "markdown",
   "metadata": {},
   "source": [
    "\n",
    "<br>\n",
    "Finally, let us test how well our RL agent student learned to mimic the behavior of the expert<br>\n"
   ]
  },
  {
   "cell_type": "code",
   "execution_count": 15,
   "metadata": {},
   "outputs": [],
   "source": [
    "num_interactions = 3000\n",
    "obs = env.reset()\n",
    "for i in range(num_interactions):\n",
    "    action, _ = ppo_student.predict(obs, deterministic=True)\n",
    "    expert_observations[i] = obs\n",
    "    expert_actions[i] = action\n",
    "    obs, reward, done, info = env.step(action)\n",
    "    env.render()\n",
    "    if done:\n",
    "        obs = env.reset()"
   ]
  },
  {
   "cell_type": "code",
   "execution_count": null,
   "metadata": {},
   "outputs": [],
   "source": []
  }
 ],
 "metadata": {
  "kernelspec": {
   "display_name": "Python 3",
   "language": "python",
   "name": "python3"
  },
  "language_info": {
   "codemirror_mode": {
    "name": "ipython",
    "version": 3
   },
   "file_extension": ".py",
   "mimetype": "text/x-python",
   "name": "python",
   "nbconvert_exporter": "python",
   "pygments_lexer": "ipython3",
   "version": "3.6.10"
  }
 },
 "nbformat": 4,
 "nbformat_minor": 2
}
